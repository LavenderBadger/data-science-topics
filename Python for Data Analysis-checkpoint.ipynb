{
 "cells": [
  {
   "cell_type": "markdown",
   "metadata": {},
   "source": [
    "Python for Data Analysis (my personal reference guide and teaching guide for my younger siblings)"
   ]
  },
  {
   "cell_type": "markdown",
   "metadata": {},
   "source": [
    "Workflow (What I wish I knew when I first started)\n",
    "1. Names\n",
    "2. Enviornment\n",
    "3. File Path Organization\n",
    "4. Projects"
   ]
  },
  {
   "cell_type": "markdown",
   "metadata": {},
   "source": [
    "Exploratory Data Analysis\n",
    "\n",
    "1. Data Transformation\n",
    "2. Data Visualizaton\n",
    "3. Exploratory Data Analysis (EDA)"
   ]
  },
  {
   "cell_type": "code",
   "execution_count": 1,
   "metadata": {
    "collapsed": true
   },
   "outputs": [],
   "source": [
    "#essiential pacakges\n",
    "import pandas as pd\n",
    "import numpy as np\n",
    "import scipi as sp\n",
    "import statsmodels as sm\n",
    "\n",
    "#visualization packages\n",
    "import matplotlib as mlp\n",
    "import seaborn as sb\n",
    "import bokeh as bk\n",
    "import ploty as plt #interactive visualizatiosn\n",
    "\n",
    "#machine learning packages\n",
    "import sklearn as sk\n",
    "import eli5 as eli\n",
    "import xgboost as xgb\n",
    "\n",
    "#deep learning packages\n",
    "import tensorflow as tf\n",
    "import keras as ker\n",
    "import pytorch as pyt\n",
    "\n",
    "#micro web framework\n",
    "import flask\n",
    "\n",
    "#NLP\n",
    "import NLTK as nltk\n",
    "\n",
    "#Data Scraping aka web scraping\n",
    "import scrapy as scrap\n",
    "\n"
   ]
  },
  {
   "cell_type": "markdown",
   "metadata": {},
   "source": [
    "Data Wrangling\n",
    "1. Tiday data\n",
    "2. relational data\n",
    "3. strings\n",
    "4. categorical variables\n",
    "5. dates, times, datetimes"
   ]
  },
  {
   "cell_type": "code",
   "execution_count": null,
   "metadata": {
    "collapsed": true
   },
   "outputs": [],
   "source": [
    "#\n"
   ]
  },
  {
   "cell_type": "markdown",
   "metadata": {},
   "source": [
    "Programming\n",
    "1. piping\n",
    "2. functions\n",
    "3. vectors\n",
    "4. iteration"
   ]
  },
  {
   "cell_type": "code",
   "execution_count": null,
   "metadata": {
    "collapsed": true
   },
   "outputs": [],
   "source": [
    "#\n"
   ]
  },
  {
   "cell_type": "markdown",
   "metadata": {},
   "source": [
    "Modeling\n",
    "\n",
    "Model building\n",
    "--include links for various types of models"
   ]
  },
  {
   "cell_type": "markdown",
   "metadata": {},
   "source": [
    "Communicating Analysis"
   ]
  }
 ],
 "metadata": {
  "kernelspec": {
   "display_name": "Python 3",
   "language": "python",
   "name": "python3"
  },
  "language_info": {
   "codemirror_mode": {
    "name": "ipython",
    "version": 3
   },
   "file_extension": ".py",
   "mimetype": "text/x-python",
   "name": "python",
   "nbconvert_exporter": "python",
   "pygments_lexer": "ipython3",
   "version": "3.6.1"
  }
 },
 "nbformat": 4,
 "nbformat_minor": 2
}
