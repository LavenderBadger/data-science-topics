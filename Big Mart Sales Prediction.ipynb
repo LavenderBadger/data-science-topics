{
 "cells": [
  {
   "cell_type": "markdown",
   "metadata": {},
   "source": [
    "The flexible process\n",
    "1. Define the problem\n",
    "2. EDA & clean the data (prepare the data)\n",
    "3. Build the model & Spot check algorithms\n",
    "4. Improve Results\n",
    "5. Present Results"
   ]
  },
  {
   "cell_type": "markdown",
   "metadata": {},
   "source": [
    "1. Define the problem\n",
    "\n",
    "Since I am getting this project idea from kaggle I will cite their question\n",
    "-----------------------------------------------------------------\n",
    "\"The data scientists at BigMart have collected 2013 sales data for 1559 products across 10 stores in different cities. \n",
    "Also, certain attributes of each product and store have been defined. \n",
    "The aim is to build a predictive model and find out the sales of each product at a particular store. \n",
    "Using this model, BigMart will try to understand the properties of products and stores which play a key role in increasing sales.\"\n",
    "-------------------------------------------------------------------\n",
    "\n",
    "from this question we can generate a whole slew of possible hypotehesis to test at the store level and product level"
   ]
  },
  {
   "cell_type": "markdown",
   "metadata": {},
   "source": [
    "2. EDA & Clean the data"
   ]
  },
  {
   "cell_type": "code",
   "execution_count": 1,
   "metadata": {},
   "outputs": [],
   "source": [
    "import numpy as np\n",
    "import pandas as pd\n",
    "import sklearn as sk\n",
    "import seaborn as sns\n",
    "%matplotlib inline"
   ]
  },
  {
   "cell_type": "markdown",
   "metadata": {},
   "source": [
    "3. Build the model & spot check algorithms"
   ]
  },
  {
   "cell_type": "markdown",
   "metadata": {},
   "source": [
    "4. Improve Results"
   ]
  },
  {
   "cell_type": "markdown",
   "metadata": {},
   "source": [
    "5. Present Results\n",
    "\n",
    "--explain the limitations of the model"
   ]
  }
 ],
 "metadata": {
  "kernelspec": {
   "display_name": "Python 3",
   "language": "python",
   "name": "python3"
  },
  "language_info": {
   "codemirror_mode": {
    "name": "ipython",
    "version": 3
   },
   "file_extension": ".py",
   "mimetype": "text/x-python",
   "name": "python",
   "nbconvert_exporter": "python",
   "pygments_lexer": "ipython3",
   "version": "3.6.4"
  }
 },
 "nbformat": 4,
 "nbformat_minor": 2
}
